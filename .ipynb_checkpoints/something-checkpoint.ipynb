{
 "cells": [
  {
   "cell_type": "markdown",
   "metadata": {},
   "source": [
    "Code that does something"
   ]
  },
  {
   "cell_type": "code",
   "execution_count": null,
   "metadata": {},
   "outputs": [],
   "source": [
    "name = input(\"Enter your name\")\n",
    "age = input(\"Enter your age\")\n",
    "age = int(age)\n",
    "years = input(\"Enter the number of years\")\n",
    "years = int(years)\n",
    "ageresult = years+age\n",
    "if age<0:\n",
    "    print('Your age must be at least 0!')\n",
    "if years>=0:\n",
    "    print('In',years,'years,',name, 'will be' ,ageresult,'years old!')\n",
    "else:\n",
    "    print(-years,'years ago,',name, 'was' ,ageresult,'years old!')"
   ]
  },
  {
   "cell_type": "code",
   "execution_count": null,
   "metadata": {},
   "outputs": [],
   "source": []
  }
 ],
 "metadata": {
  "kernelspec": {
   "display_name": "Python 3",
   "language": "python",
   "name": "python3"
  },
  "language_info": {
   "codemirror_mode": {
    "name": "ipython",
    "version": 3
   },
   "file_extension": ".py",
   "mimetype": "text/x-python",
   "name": "python",
   "nbconvert_exporter": "python",
   "pygments_lexer": "ipython3",
   "version": "3.8.3"
  }
 },
 "nbformat": 4,
 "nbformat_minor": 4
}
